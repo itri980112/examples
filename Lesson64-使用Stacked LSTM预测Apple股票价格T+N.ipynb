{
 "cells": [
  {
   "cell_type": "markdown",
   "metadata": {},
   "source": [
    "## 第64课 使用Stacked LSTM预测Apple股票价格T+N\n",
    "\n",
    "\n",
    "### Python零基础学习建模：https://www.ixigua.com/home/77346806707?utm_source=xiguastudio\n",
    "\n",
    "### Python源文件及数据下载链接: https://github.com/rayc2020/LessonPythonCode\n"
   ]
  },
  {
   "cell_type": "code",
   "execution_count": 309,
   "metadata": {},
   "outputs": [
    {
     "data": {
      "image/png": "[encoded data removed]",
      "text/plain": [
       "<IPython.core.display.Image object>"
      ]
     },
     "execution_count": 309,
     "metadata": {},
     "output_type": "execute_result"
    }
   ],
   "source": [
    "#A Stacked LSTM architecture can be defined as an LSTM model comprised of multiple LSTM layers. An LSTM layer below provides \n",
    "#a sequence output rather than a single value output to the LSTM layer below\n",
    "\n",
    "from IPython.display import Image\n",
    "Image(filename='D:\\\\python\\\\Project0-Python-MachineLearning\\\\Lesson64-architecture_stacked_lstm.png')"
   ]
  },
  {
   "cell_type": "code",
   "execution_count": 310,
   "metadata": {},
   "outputs": [],
   "source": [
    "### Keras and Tensorflow >2.0"
   ]
  },
  {
   "cell_type": "code",
   "execution_count": 389,
   "metadata": {},
   "outputs": [],
   "source": [
    "import pandas as pd"
   ]
  },
  {
   "cell_type": "code",
   "execution_count": 390,
   "metadata": {},
   "outputs": [],
   "source": [
    "df=pd.read_csv('Lesson64-AAPL.csv')"
   ]
  },
  {
   "cell_type": "code",
   "execution_count": 391,
   "metadata": {},
   "outputs": [
    {
     "data": {
      "text/html": [
       "<div>\n",
       "<style scoped>\n",
       "    .dataframe tbody tr th:only-of-type {\n",
       "        vertical-align: middle;\n",
       "    }\n",
       "\n",
       "    .dataframe tbody tr th {\n",
       "        vertical-align: top;\n",
       "    }\n",
       "\n",
       "    .dataframe thead th {\n",
       "        text-align: right;\n",
       "    }\n",
       "</style>\n",
       "<table border=\"1\" class=\"dataframe\">\n",
       "  <thead>\n",
       "    <tr style=\"text-align: right;\">\n",
       "      <th></th>\n",
       "      <th>Unnamed: 0</th>\n",
       "      <th>symbol</th>\n",
       "      <th>date</th>\n",
       "      <th>close</th>\n",
       "      <th>high</th>\n",
       "      <th>low</th>\n",
       "      <th>open</th>\n",
       "      <th>volume</th>\n",
       "      <th>adjClose</th>\n",
       "      <th>adjHigh</th>\n",
       "      <th>adjLow</th>\n",
       "      <th>adjOpen</th>\n",
       "      <th>adjVolume</th>\n",
       "      <th>divCash</th>\n",
       "      <th>splitFactor</th>\n",
       "    </tr>\n",
       "  </thead>\n",
       "  <tbody>\n",
       "    <tr>\n",
       "      <th>0</th>\n",
       "      <td>0</td>\n",
       "      <td>AAPL</td>\n",
       "      <td>2015-05-27 00:00:00+00:00</td>\n",
       "      <td>132.045</td>\n",
       "      <td>132.260</td>\n",
       "      <td>130.0500</td>\n",
       "      <td>130.34</td>\n",
       "      <td>45833246</td>\n",
       "      <td>121.682558</td>\n",
       "      <td>121.880685</td>\n",
       "      <td>119.844118</td>\n",
       "      <td>120.111360</td>\n",
       "      <td>45833246</td>\n",
       "      <td>0.0</td>\n",
       "      <td>1.0</td>\n",
       "    </tr>\n",
       "    <tr>\n",
       "      <th>1</th>\n",
       "      <td>1</td>\n",
       "      <td>AAPL</td>\n",
       "      <td>2015-05-28 00:00:00+00:00</td>\n",
       "      <td>131.780</td>\n",
       "      <td>131.950</td>\n",
       "      <td>131.1000</td>\n",
       "      <td>131.86</td>\n",
       "      <td>30733309</td>\n",
       "      <td>121.438354</td>\n",
       "      <td>121.595013</td>\n",
       "      <td>120.811718</td>\n",
       "      <td>121.512076</td>\n",
       "      <td>30733309</td>\n",
       "      <td>0.0</td>\n",
       "      <td>1.0</td>\n",
       "    </tr>\n",
       "    <tr>\n",
       "      <th>2</th>\n",
       "      <td>2</td>\n",
       "      <td>AAPL</td>\n",
       "      <td>2015-05-29 00:00:00+00:00</td>\n",
       "      <td>130.280</td>\n",
       "      <td>131.450</td>\n",
       "      <td>129.9000</td>\n",
       "      <td>131.23</td>\n",
       "      <td>50884452</td>\n",
       "      <td>120.056069</td>\n",
       "      <td>121.134251</td>\n",
       "      <td>119.705890</td>\n",
       "      <td>120.931516</td>\n",
       "      <td>50884452</td>\n",
       "      <td>0.0</td>\n",
       "      <td>1.0</td>\n",
       "    </tr>\n",
       "    <tr>\n",
       "      <th>3</th>\n",
       "      <td>3</td>\n",
       "      <td>AAPL</td>\n",
       "      <td>2015-06-01 00:00:00+00:00</td>\n",
       "      <td>130.535</td>\n",
       "      <td>131.390</td>\n",
       "      <td>130.0500</td>\n",
       "      <td>131.20</td>\n",
       "      <td>32112797</td>\n",
       "      <td>120.291057</td>\n",
       "      <td>121.078960</td>\n",
       "      <td>119.844118</td>\n",
       "      <td>120.903870</td>\n",
       "      <td>32112797</td>\n",
       "      <td>0.0</td>\n",
       "      <td>1.0</td>\n",
       "    </tr>\n",
       "    <tr>\n",
       "      <th>4</th>\n",
       "      <td>4</td>\n",
       "      <td>AAPL</td>\n",
       "      <td>2015-06-02 00:00:00+00:00</td>\n",
       "      <td>129.960</td>\n",
       "      <td>130.655</td>\n",
       "      <td>129.3200</td>\n",
       "      <td>129.86</td>\n",
       "      <td>33667627</td>\n",
       "      <td>119.761181</td>\n",
       "      <td>120.401640</td>\n",
       "      <td>119.171406</td>\n",
       "      <td>119.669029</td>\n",
       "      <td>33667627</td>\n",
       "      <td>0.0</td>\n",
       "      <td>1.0</td>\n",
       "    </tr>\n",
       "    <tr>\n",
       "      <th>...</th>\n",
       "      <td>...</td>\n",
       "      <td>...</td>\n",
       "      <td>...</td>\n",
       "      <td>...</td>\n",
       "      <td>...</td>\n",
       "      <td>...</td>\n",
       "      <td>...</td>\n",
       "      <td>...</td>\n",
       "      <td>...</td>\n",
       "      <td>...</td>\n",
       "      <td>...</td>\n",
       "      <td>...</td>\n",
       "      <td>...</td>\n",
       "      <td>...</td>\n",
       "      <td>...</td>\n",
       "    </tr>\n",
       "    <tr>\n",
       "      <th>1253</th>\n",
       "      <td>1253</td>\n",
       "      <td>AAPL</td>\n",
       "      <td>2020-05-18 00:00:00+00:00</td>\n",
       "      <td>314.960</td>\n",
       "      <td>316.500</td>\n",
       "      <td>310.3241</td>\n",
       "      <td>313.17</td>\n",
       "      <td>33843125</td>\n",
       "      <td>314.960000</td>\n",
       "      <td>316.500000</td>\n",
       "      <td>310.324100</td>\n",
       "      <td>313.170000</td>\n",
       "      <td>33843125</td>\n",
       "      <td>0.0</td>\n",
       "      <td>1.0</td>\n",
       "    </tr>\n",
       "    <tr>\n",
       "      <th>1254</th>\n",
       "      <td>1254</td>\n",
       "      <td>AAPL</td>\n",
       "      <td>2020-05-19 00:00:00+00:00</td>\n",
       "      <td>313.140</td>\n",
       "      <td>318.520</td>\n",
       "      <td>313.0100</td>\n",
       "      <td>315.03</td>\n",
       "      <td>25432385</td>\n",
       "      <td>313.140000</td>\n",
       "      <td>318.520000</td>\n",
       "      <td>313.010000</td>\n",
       "      <td>315.030000</td>\n",
       "      <td>25432385</td>\n",
       "      <td>0.0</td>\n",
       "      <td>1.0</td>\n",
       "    </tr>\n",
       "    <tr>\n",
       "      <th>1255</th>\n",
       "      <td>1255</td>\n",
       "      <td>AAPL</td>\n",
       "      <td>2020-05-20 00:00:00+00:00</td>\n",
       "      <td>319.230</td>\n",
       "      <td>319.520</td>\n",
       "      <td>316.2000</td>\n",
       "      <td>316.68</td>\n",
       "      <td>27876215</td>\n",
       "      <td>319.230000</td>\n",
       "      <td>319.520000</td>\n",
       "      <td>316.200000</td>\n",
       "      <td>316.680000</td>\n",
       "      <td>27876215</td>\n",
       "      <td>0.0</td>\n",
       "      <td>1.0</td>\n",
       "    </tr>\n",
       "    <tr>\n",
       "      <th>1256</th>\n",
       "      <td>1256</td>\n",
       "      <td>AAPL</td>\n",
       "      <td>2020-05-21 00:00:00+00:00</td>\n",
       "      <td>316.850</td>\n",
       "      <td>320.890</td>\n",
       "      <td>315.8700</td>\n",
       "      <td>318.66</td>\n",
       "      <td>25672211</td>\n",
       "      <td>316.850000</td>\n",
       "      <td>320.890000</td>\n",
       "      <td>315.870000</td>\n",
       "      <td>318.660000</td>\n",
       "      <td>25672211</td>\n",
       "      <td>0.0</td>\n",
       "      <td>1.0</td>\n",
       "    </tr>\n",
       "    <tr>\n",
       "      <th>1257</th>\n",
       "      <td>1257</td>\n",
       "      <td>AAPL</td>\n",
       "      <td>2020-05-22 00:00:00+00:00</td>\n",
       "      <td>318.890</td>\n",
       "      <td>319.230</td>\n",
       "      <td>315.3500</td>\n",
       "      <td>315.77</td>\n",
       "      <td>20450754</td>\n",
       "      <td>318.890000</td>\n",
       "      <td>319.230000</td>\n",
       "      <td>315.350000</td>\n",
       "      <td>315.770000</td>\n",
       "      <td>20450754</td>\n",
       "      <td>0.0</td>\n",
       "      <td>1.0</td>\n",
       "    </tr>\n",
       "  </tbody>\n",
       "</table>\n",
       "<p>1258 rows × 15 columns</p>\n",
       "</div>"
      ],
      "text/plain": [
       "      Unnamed: 0 symbol                       date    close     high  \\\n",
       "0              0   AAPL  2015-05-27 00:00:00+00:00  132.045  132.260   \n",
       "1              1   AAPL  2015-05-28 00:00:00+00:00  131.780  131.950   \n",
       "2              2   AAPL  2015-05-29 00:00:00+00:00  130.280  131.450   \n",
       "3              3   AAPL  2015-06-01 00:00:00+00:00  130.535  131.390   \n",
       "4              4   AAPL  2015-06-02 00:00:00+00:00  129.960  130.655   \n",
       "...          ...    ...                        ...      ...      ...   \n",
       "1253        1253   AAPL  2020-05-18 00:00:00+00:00  314.960  316.500   \n",
       "1254        1254   AAPL  2020-05-19 00:00:00+00:00  313.140  318.520   \n",
       "1255        1255   AAPL  2020-05-20 00:00:00+00:00  319.230  319.520   \n",
       "1256        1256   AAPL  2020-05-21 00:00:00+00:00  316.850  320.890   \n",
       "1257        1257   AAPL  2020-05-22 00:00:00+00:00  318.890  319.230   \n",
       "\n",
       "           low    open    volume    adjClose     adjHigh      adjLow  \\\n",
       "0     130.0500  130.34  45833246  121.682558  121.880685  119.844118   \n",
       "1     131.1000  131.86  30733309  121.438354  121.595013  120.811718   \n",
       "2     129.9000  131.23  50884452  120.056069  121.134251  119.705890   \n",
       "3     130.0500  131.20  32112797  120.291057  121.078960  119.844118   \n",
       "4     129.3200  129.86  33667627  119.761181  120.401640  119.171406   \n",
       "...        ...     ...       ...         ...         ...         ...   \n",
       "1253  310.3241  313.17  33843125  314.960000  316.500000  310.324100   \n",
       "1254  313.0100  315.03  25432385  313.140000  318.520000  313.010000   \n",
       "1255  316.2000  316.68  27876215  319.230000  319.520000  316.200000   \n",
       "1256  315.8700  318.66  25672211  316.850000  320.890000  315.870000   \n",
       "1257  315.3500  315.77  20450754  318.890000  319.230000  315.350000   \n",
       "\n",
       "         adjOpen  adjVolume  divCash  splitFactor  \n",
       "0     120.111360   45833246      0.0          1.0  \n",
       "1     121.512076   30733309      0.0          1.0  \n",
       "2     120.931516   50884452      0.0          1.0  \n",
       "3     120.903870   32112797      0.0          1.0  \n",
       "4     119.669029   33667627      0.0          1.0  \n",
       "...          ...        ...      ...          ...  \n",
       "1253  313.170000   33843125      0.0          1.0  \n",
       "1254  315.030000   25432385      0.0          1.0  \n",
       "1255  316.680000   27876215      0.0          1.0  \n",
       "1256  318.660000   25672211      0.0          1.0  \n",
       "1257  315.770000   20450754      0.0          1.0  \n",
       "\n",
       "[1258 rows x 15 columns]"
      ]
     },
     "execution_count": 391,
     "metadata": {},
     "output_type": "execute_result"
    }
   ],
   "source": [
    "df"
   ]
  },
  {
   "cell_type": "code",
   "execution_count": 392,
   "metadata": {},
   "outputs": [],
   "source": [
    "df1=df.reset_index()['close']"
   ]
  },
  {
   "cell_type": "code",
   "execution_count": 394,
   "metadata": {},
   "outputs": [
    {
     "data": {
      "text/plain": [
       "0       132.045\n",
       "1       131.780\n",
       "2       130.280\n",
       "3       130.535\n",
       "4       129.960\n",
       "         ...   \n",
       "1253    314.960\n",
       "1254    313.140\n",
       "1255    319.230\n",
       "1256    316.850\n",
       "1257    318.890\n",
       "Name: close, Length: 1258, dtype: float64"
      ]
     },
     "execution_count": 394,
     "metadata": {},
     "output_type": "execute_result"
    }
   ],
   "source": [
    "df1"
   ]
  },
  {
   "cell_type": "code",
   "execution_count": 395,
   "metadata": {},
   "outputs": [
    {
     "data": {
      "text/plain": [
       "[<matplotlib.lines.Line2D at 0x1f5aaa564c8>]"
      ]
     },
     "execution_count": 395,
     "metadata": {},
     "output_type": "execute_result"
    },
    {
     "data": {
      "image/png": "[encoded data removed]",
      "text/plain": [
       "<Figure size 432x288 with 1 Axes>"
      ]
     },
     "metadata": {
      "needs_background": "light"
     },
     "output_type": "display_data"
    }
   ],
   "source": [
    "import matplotlib.pyplot as plt\n",
    "plt.plot(df['date'],df1)"
   ]
  },
  {
   "cell_type": "code",
   "execution_count": 317,
   "metadata": {},
   "outputs": [],
   "source": [
    "### LSTM are sensitive to the scale of the data. so we apply MinMax scaler "
   ]
  },
  {
   "cell_type": "code",
   "execution_count": 396,
   "metadata": {},
   "outputs": [],
   "source": [
    "import numpy as np"
   ]
  },
  {
   "cell_type": "code",
   "execution_count": 397,
   "metadata": {},
   "outputs": [
    {
     "data": {
      "text/plain": [
       "0       132.045\n",
       "1       131.780\n",
       "2       130.280\n",
       "3       130.535\n",
       "4       129.960\n",
       "         ...   \n",
       "1253    314.960\n",
       "1254    313.140\n",
       "1255    319.230\n",
       "1256    316.850\n",
       "1257    318.890\n",
       "Name: close, Length: 1258, dtype: float64"
      ]
     },
     "execution_count": 397,
     "metadata": {},
     "output_type": "execute_result"
    }
   ],
   "source": [
    "df1"
   ]
  },
  {
   "cell_type": "code",
   "execution_count": 398,
   "metadata": {},
   "outputs": [],
   "source": [
    "from sklearn.preprocessing import MinMaxScaler\n",
    "scaler=MinMaxScaler(feature_range=(0,1))\n",
    "df1=scaler.fit_transform(np.array(df1).reshape(-1,1))"
   ]
  },
  {
   "cell_type": "code",
   "execution_count": 399,
   "metadata": {},
   "outputs": [
    {
     "name": "stdout",
     "output_type": "stream",
     "text": [
      "[[0.17607447]\n",
      " [0.17495567]\n",
      " [0.16862282]\n",
      " ...\n",
      " [0.96635143]\n",
      " [0.9563033 ]\n",
      " [0.96491598]]\n"
     ]
    }
   ],
   "source": [
    "print(df1)"
   ]
  },
  {
   "cell_type": "code",
   "execution_count": 400,
   "metadata": {},
   "outputs": [],
   "source": [
    "##splitting dataset into train and test split\n",
    "training_size=int(len(df1)*0.65)\n",
    "test_size=len(df1)-training_size\n",
    "train_data,test_data=df1[0:training_size,:],df1[training_size:len(df1),:1]"
   ]
  },
  {
   "cell_type": "code",
   "execution_count": 401,
   "metadata": {},
   "outputs": [
    {
     "data": {
      "text/plain": [
       "(817, 441)"
      ]
     },
     "execution_count": 401,
     "metadata": {},
     "output_type": "execute_result"
    }
   ],
   "source": [
    "training_size,test_size"
   ]
  },
  {
   "cell_type": "code",
   "execution_count": 404,
   "metadata": {},
   "outputs": [
    {
     "data": {
      "text/plain": [
       "(817, 1)"
      ]
     },
     "execution_count": 404,
     "metadata": {},
     "output_type": "execute_result"
    }
   ],
   "source": [
    "train_data.shape"
   ]
  },
  {
   "cell_type": "code",
   "execution_count": 364,
   "metadata": {},
   "outputs": [],
   "source": [
    "import numpy\n",
    "# convert an array of values into a dataset matrix\n",
    "def create_dataset(dataset, time_step=1):\n",
    "\tdataX, dataY = [], []\n",
    "\tfor i in range(len(dataset)-time_step-1):\n",
    "\t\ta = dataset[i:(i+time_step), 0]   ###i=0, 0,1,2,3-----9\n",
    "\t\tdataX.append(a)\n",
    "\t\tdataY.append(dataset[i + time_step, 0])\n",
    "\treturn numpy.array(dataX), numpy.array(dataY)"
   ]
  },
  {
   "cell_type": "code",
   "execution_count": 405,
   "metadata": {},
   "outputs": [],
   "source": [
    "# reshape into X=t,t+1,t+2,t+3 and Y=t+4\n",
    "time_step = 10\n",
    "X_train, y_train = create_dataset(train_data, time_step)\n",
    "X_test, y_test = create_dataset(test_data, time_step)"
   ]
  },
  {
   "cell_type": "code",
   "execution_count": 406,
   "metadata": {},
   "outputs": [
    {
     "name": "stdout",
     "output_type": "stream",
     "text": [
      "(806, 10)\n",
      "(806,)\n"
     ]
    },
    {
     "data": {
      "text/plain": [
       "(None, None)"
      ]
     },
     "execution_count": 406,
     "metadata": {},
     "output_type": "execute_result"
    }
   ],
   "source": [
    "print(X_train.shape), print(y_train.shape)"
   ]
  },
  {
   "cell_type": "code",
   "execution_count": 407,
   "metadata": {},
   "outputs": [
    {
     "name": "stdout",
     "output_type": "stream",
     "text": [
      "(430, 10)\n",
      "(430,)\n"
     ]
    },
    {
     "data": {
      "text/plain": [
       "(None, None)"
      ]
     },
     "execution_count": 407,
     "metadata": {},
     "output_type": "execute_result"
    }
   ],
   "source": [
    "print(X_test.shape), print(y_test.shape)"
   ]
  },
  {
   "cell_type": "code",
   "execution_count": 408,
   "metadata": {},
   "outputs": [
    {
     "data": {
      "text/plain": [
       "array([[0.17607447, 0.17495567, 0.16862282, ..., 0.16174111, 0.1581525 ,\n",
       "        0.15654817],\n",
       "       [0.17495567, 0.16862282, 0.1696994 , ..., 0.1581525 , 0.15654817,\n",
       "        0.16271215],\n",
       "       [0.16862282, 0.1696994 , 0.16727181, ..., 0.15654817, 0.16271215,\n",
       "        0.1614878 ],\n",
       "       ...,\n",
       "       [0.49417377, 0.49670692, 0.50126657, ..., 0.50042219, 0.50413747,\n",
       "        0.5062062 ],\n",
       "       [0.49670692, 0.50126657, 0.49299164, ..., 0.50413747, 0.5062062 ,\n",
       "        0.51920966],\n",
       "       [0.50126657, 0.49299164, 0.49358271, ..., 0.5062062 , 0.51920966,\n",
       "        0.53719497]])"
      ]
     },
     "execution_count": 408,
     "metadata": {},
     "output_type": "execute_result"
    }
   ],
   "source": [
    "X_train"
   ]
  },
  {
   "cell_type": "code",
   "execution_count": 409,
   "metadata": {},
   "outputs": [],
   "source": [
    "# reshape input to be [samples, time steps, features] which is required for LSTM\n",
    "X_train =X_train.reshape(X_train.shape[0],X_train.shape[1] , 1)\n",
    "X_test = X_test.reshape(X_test.shape[0],X_test.shape[1] , 1)"
   ]
  },
  {
   "cell_type": "code",
   "execution_count": 410,
   "metadata": {},
   "outputs": [
    {
     "name": "stdout",
     "output_type": "stream",
     "text": [
      "(806, 10, 1)\n",
      "(430, 10, 1)\n"
     ]
    },
    {
     "data": {
      "text/plain": [
       "(None, None)"
      ]
     },
     "execution_count": 410,
     "metadata": {},
     "output_type": "execute_result"
    }
   ],
   "source": [
    "print(X_train.shape), print(X_test.shape)"
   ]
  },
  {
   "cell_type": "code",
   "execution_count": 411,
   "metadata": {},
   "outputs": [],
   "source": [
    "### Create the Stacked LSTM model\n",
    "from tensorflow.keras.models import Sequential\n",
    "from tensorflow.keras.layers import Dense\n",
    "from tensorflow.keras.layers import LSTM"
   ]
  },
  {
   "cell_type": "code",
   "execution_count": 412,
   "metadata": {},
   "outputs": [],
   "source": [
    "model=Sequential()\n",
    "model.add(LSTM(50,return_sequences=True,input_shape=(10,1)))\n",
    "model.add(LSTM(50,return_sequences=True))\n",
    "model.add(LSTM(50))\n",
    "model.add(Dense(1))\n",
    "model.compile(loss='mean_squared_error',optimizer='adam')"
   ]
  },
  {
   "cell_type": "code",
   "execution_count": 413,
   "metadata": {},
   "outputs": [
    {
     "name": "stdout",
     "output_type": "stream",
     "text": [
      "Model: \"sequential_8\"\n",
      "_________________________________________________________________\n",
      "Layer (type)                 Output Shape              Param #   \n",
      "=================================================================\n",
      "lstm_24 (LSTM)               (None, 10, 50)            10400     \n",
      "_________________________________________________________________\n",
      "lstm_25 (LSTM)               (None, 10, 50)            20200     \n",
      "_________________________________________________________________\n",
      "lstm_26 (LSTM)               (None, 50)                20200     \n",
      "_________________________________________________________________\n",
      "dense_8 (Dense)              (None, 1)                 51        \n",
      "=================================================================\n",
      "Total params: 50,851\n",
      "Trainable params: 50,851\n",
      "Non-trainable params: 0\n",
      "_________________________________________________________________\n"
     ]
    }
   ],
   "source": [
    "model.summary()"
   ]
  },
  {
   "cell_type": "code",
   "execution_count": 414,
   "metadata": {},
   "outputs": [
    {
     "name": "stdout",
     "output_type": "stream",
     "text": [
      "Epoch 1/100\n",
      "13/13 [==============================] - 2s 136ms/step - loss: 0.0227 - val_loss: 0.0136\n",
      "Epoch 2/100\n",
      "13/13 [==============================] - 0s 33ms/step - loss: 0.0057 - val_loss: 0.0107\n",
      "Epoch 3/100\n",
      "13/13 [==============================] - 0s 34ms/step - loss: 0.0012 - val_loss: 0.0049\n",
      "Epoch 4/100\n",
      "13/13 [==============================] - 0s 32ms/step - loss: 7.0891e-04 - val_loss: 0.0026\n",
      "Epoch 5/100\n",
      "13/13 [==============================] - 0s 29ms/step - loss: 4.7271e-04 - val_loss: 0.0024\n",
      "Epoch 6/100\n",
      "13/13 [==============================] - 0s 37ms/step - loss: 4.1640e-04 - val_loss: 0.0041\n",
      "Epoch 7/100\n",
      "13/13 [==============================] - 0s 33ms/step - loss: 3.9866e-04 - val_loss: 0.0033\n",
      "Epoch 8/100\n",
      "13/13 [==============================] - 0s 38ms/step - loss: 4.0189e-04 - val_loss: 0.0032\n",
      "Epoch 9/100\n",
      "13/13 [==============================] - 0s 33ms/step - loss: 4.0352e-04 - val_loss: 0.0028\n",
      "Epoch 10/100\n",
      "13/13 [==============================] - 0s 32ms/step - loss: 4.0195e-04 - val_loss: 0.0024\n",
      "Epoch 11/100\n",
      "13/13 [==============================] - 0s 37ms/step - loss: 4.0443e-04 - val_loss: 0.0020\n",
      "Epoch 12/100\n",
      "13/13 [==============================] - 0s 35ms/step - loss: 4.1046e-04 - val_loss: 0.0023\n",
      "Epoch 13/100\n",
      "13/13 [==============================] - 1s 39ms/step - loss: 3.9495e-04 - val_loss: 0.0023\n",
      "Epoch 14/100\n",
      "13/13 [==============================] - 0s 34ms/step - loss: 4.0984e-04 - val_loss: 0.0026\n",
      "Epoch 15/100\n",
      "13/13 [==============================] - 0s 34ms/step - loss: 4.0720e-04 - val_loss: 0.0021\n",
      "Epoch 16/100\n",
      "13/13 [==============================] - 0s 35ms/step - loss: 3.8008e-04 - val_loss: 0.0021\n",
      "Epoch 17/100\n",
      "13/13 [==============================] - 0s 32ms/step - loss: 3.8171e-04 - val_loss: 0.0020\n",
      "Epoch 18/100\n",
      "13/13 [==============================] - 0s 34ms/step - loss: 3.8432e-04 - val_loss: 0.0020\n",
      "Epoch 19/100\n",
      "13/13 [==============================] - 0s 33ms/step - loss: 3.8268e-04 - val_loss: 0.0020\n",
      "Epoch 20/100\n",
      "13/13 [==============================] - 0s 32ms/step - loss: 3.7637e-04 - val_loss: 0.0021\n",
      "Epoch 21/100\n",
      "13/13 [==============================] - 0s 33ms/step - loss: 3.7871e-04 - val_loss: 0.0019\n",
      "Epoch 22/100\n",
      "13/13 [==============================] - 1s 39ms/step - loss: 3.7438e-04 - val_loss: 0.0019\n",
      "Epoch 23/100\n",
      "13/13 [==============================] - 0s 34ms/step - loss: 3.9266e-04 - val_loss: 0.0020\n",
      "Epoch 24/100\n",
      "13/13 [==============================] - 0s 35ms/step - loss: 4.0921e-04 - val_loss: 0.0025\n",
      "Epoch 25/100\n",
      "13/13 [==============================] - 0s 34ms/step - loss: 3.9760e-04 - val_loss: 0.0019\n",
      "Epoch 26/100\n",
      "13/13 [==============================] - 0s 35ms/step - loss: 4.0591e-04 - val_loss: 0.0019\n",
      "Epoch 27/100\n",
      "13/13 [==============================] - 0s 32ms/step - loss: 4.1717e-04 - val_loss: 0.0019\n",
      "Epoch 28/100\n",
      "13/13 [==============================] - 0s 34ms/step - loss: 3.8442e-04 - val_loss: 0.0018\n",
      "Epoch 29/100\n",
      "13/13 [==============================] - 0s 37ms/step - loss: 3.6493e-04 - val_loss: 0.0018\n",
      "Epoch 30/100\n",
      "13/13 [==============================] - 0s 33ms/step - loss: 3.6545e-04 - val_loss: 0.0018\n",
      "Epoch 31/100\n",
      "13/13 [==============================] - 0s 32ms/step - loss: 3.7416e-04 - val_loss: 0.0018\n",
      "Epoch 32/100\n",
      "13/13 [==============================] - 1s 39ms/step - loss: 3.5545e-04 - val_loss: 0.0018\n",
      "Epoch 33/100\n",
      "13/13 [==============================] - 0s 34ms/step - loss: 3.5580e-04 - val_loss: 0.0019\n",
      "Epoch 34/100\n",
      "13/13 [==============================] - 0s 34ms/step - loss: 3.5375e-04 - val_loss: 0.0018\n",
      "Epoch 35/100\n",
      "13/13 [==============================] - 0s 33ms/step - loss: 3.5099e-04 - val_loss: 0.0019\n",
      "Epoch 36/100\n",
      "13/13 [==============================] - 0s 34ms/step - loss: 3.8455e-04 - val_loss: 0.0019\n",
      "Epoch 37/100\n",
      "13/13 [==============================] - 0s 34ms/step - loss: 3.6561e-04 - val_loss: 0.0017\n",
      "Epoch 38/100\n",
      "13/13 [==============================] - 0s 34ms/step - loss: 3.4453e-04 - val_loss: 0.0017\n",
      "Epoch 39/100\n",
      "13/13 [==============================] - 0s 35ms/step - loss: 3.4331e-04 - val_loss: 0.0017\n",
      "Epoch 40/100\n",
      "13/13 [==============================] - 0s 35ms/step - loss: 3.6759e-04 - val_loss: 0.0022\n",
      "Epoch 41/100\n",
      "13/13 [==============================] - 1s 39ms/step - loss: 3.7773e-04 - val_loss: 0.0018\n",
      "Epoch 42/100\n",
      "13/13 [==============================] - 1s 49ms/step - loss: 3.3593e-04 - val_loss: 0.0017\n",
      "Epoch 43/100\n",
      "13/13 [==============================] - 1s 39ms/step - loss: 3.4053e-04 - val_loss: 0.0016\n",
      "Epoch 44/100\n",
      "13/13 [==============================] - 1s 44ms/step - loss: 3.7665e-04 - val_loss: 0.0020\n",
      "Epoch 45/100\n",
      "13/13 [==============================] - 1s 51ms/step - loss: 3.3955e-04 - val_loss: 0.0016\n",
      "Epoch 46/100\n",
      "13/13 [==============================] - 1s 43ms/step - loss: 3.4958e-04 - val_loss: 0.0017\n",
      "Epoch 47/100\n",
      "13/13 [==============================] - 1s 41ms/step - loss: 3.7315e-04 - val_loss: 0.0016\n",
      "Epoch 48/100\n",
      "13/13 [==============================] - ETA: 0s - loss: 3.4024e-0 - 1s 44ms/step - loss: 3.4024e-04 - val_loss: 0.0023\n",
      "Epoch 49/100\n",
      "13/13 [==============================] - 0s 37ms/step - loss: 3.5062e-04 - val_loss: 0.0016\n",
      "Epoch 50/100\n",
      "13/13 [==============================] - 1s 42ms/step - loss: 3.2539e-04 - val_loss: 0.0018\n",
      "Epoch 51/100\n",
      "13/13 [==============================] - 1s 40ms/step - loss: 3.2576e-04 - val_loss: 0.0017\n",
      "Epoch 52/100\n",
      "13/13 [==============================] - 0s 37ms/step - loss: 3.1679e-04 - val_loss: 0.0017\n",
      "Epoch 53/100\n",
      "13/13 [==============================] - 0s 36ms/step - loss: 3.2189e-04 - val_loss: 0.0018\n",
      "Epoch 54/100\n",
      "13/13 [==============================] - 1s 40ms/step - loss: 3.3525e-04 - val_loss: 0.0014\n",
      "Epoch 55/100\n",
      "13/13 [==============================] - 0s 33ms/step - loss: 3.0043e-04 - val_loss: 0.0014\n",
      "Epoch 56/100\n",
      "13/13 [==============================] - 0s 30ms/step - loss: 2.9422e-04 - val_loss: 0.0015\n",
      "Epoch 57/100\n",
      "13/13 [==============================] - 0s 35ms/step - loss: 3.0115e-04 - val_loss: 0.0015\n",
      "Epoch 58/100\n",
      "13/13 [==============================] - 0s 35ms/step - loss: 2.8017e-04 - val_loss: 0.0013\n",
      "Epoch 59/100\n",
      "13/13 [==============================] - 1s 39ms/step - loss: 2.7445e-04 - val_loss: 0.0013\n",
      "Epoch 60/100\n",
      "13/13 [==============================] - 1s 45ms/step - loss: 2.7347e-04 - val_loss: 0.0013\n",
      "Epoch 61/100\n",
      "13/13 [==============================] - 0s 37ms/step - loss: 2.6932e-04 - val_loss: 0.0013\n",
      "Epoch 62/100\n",
      "13/13 [==============================] - 1s 42ms/step - loss: 2.7730e-04 - val_loss: 0.0015\n",
      "Epoch 63/100\n",
      "13/13 [==============================] - 1s 42ms/step - loss: 2.5683e-04 - val_loss: 0.0018\n",
      "Epoch 64/100\n",
      "13/13 [==============================] - 0s 37ms/step - loss: 2.6254e-04 - val_loss: 0.0016\n",
      "Epoch 65/100\n",
      "13/13 [==============================] - 1s 39ms/step - loss: 2.7152e-04 - val_loss: 0.0020\n",
      "Epoch 66/100\n",
      "13/13 [==============================] - 0s 34ms/step - loss: 2.5883e-04 - val_loss: 0.0020\n",
      "Epoch 67/100\n",
      "13/13 [==============================] - 0s 34ms/step - loss: 2.5129e-04 - val_loss: 0.0012\n",
      "Epoch 68/100\n",
      "13/13 [==============================] - 0s 34ms/step - loss: 2.7756e-04 - val_loss: 0.0012\n",
      "Epoch 69/100\n",
      "13/13 [==============================] - 0s 38ms/step - loss: 2.4858e-04 - val_loss: 0.0011\n",
      "Epoch 70/100\n",
      "13/13 [==============================] - 0s 38ms/step - loss: 2.7464e-04 - val_loss: 0.0021\n",
      "Epoch 71/100\n",
      "13/13 [==============================] - 0s 36ms/step - loss: 2.4681e-04 - val_loss: 0.0032\n",
      "Epoch 72/100\n",
      "13/13 [==============================] - 0s 36ms/step - loss: 2.8583e-04 - val_loss: 0.0023\n",
      "Epoch 73/100\n",
      "13/13 [==============================] - 0s 37ms/step - loss: 2.4711e-04 - val_loss: 0.0026\n",
      "Epoch 74/100\n",
      "13/13 [==============================] - 0s 37ms/step - loss: 2.5108e-04 - val_loss: 0.0025\n",
      "Epoch 75/100\n",
      "13/13 [==============================] - 0s 34ms/step - loss: 2.2300e-04 - val_loss: 0.0019\n",
      "Epoch 76/100\n",
      "13/13 [==============================] - 0s 37ms/step - loss: 2.1587e-04 - val_loss: 0.0018\n",
      "Epoch 77/100\n",
      "13/13 [==============================] - 0s 36ms/step - loss: 2.2543e-04 - val_loss: 0.0027\n",
      "Epoch 78/100\n",
      "13/13 [==============================] - 0s 36ms/step - loss: 2.4271e-04 - val_loss: 0.0027\n"
     ]
    },
    {
     "name": "stdout",
     "output_type": "stream",
     "text": [
      "Epoch 79/100\n",
      "13/13 [==============================] - 0s 36ms/step - loss: 2.2988e-04 - val_loss: 0.0024\n",
      "Epoch 80/100\n",
      "13/13 [==============================] - 0s 35ms/step - loss: 2.2889e-04 - val_loss: 0.0017\n",
      "Epoch 81/100\n",
      "13/13 [==============================] - 0s 31ms/step - loss: 2.6264e-04 - val_loss: 0.0013\n",
      "Epoch 82/100\n",
      "13/13 [==============================] - 0s 31ms/step - loss: 2.3328e-04 - val_loss: 0.0010\n",
      "Epoch 83/100\n",
      "13/13 [==============================] - 0s 33ms/step - loss: 2.1982e-04 - val_loss: 0.0015\n",
      "Epoch 84/100\n",
      "13/13 [==============================] - 0s 33ms/step - loss: 2.1616e-04 - val_loss: 0.0012\n",
      "Epoch 85/100\n",
      "13/13 [==============================] - 0s 32ms/step - loss: 2.0065e-04 - val_loss: 0.0011\n",
      "Epoch 86/100\n",
      "13/13 [==============================] - 0s 32ms/step - loss: 2.0269e-04 - val_loss: 0.0012\n",
      "Epoch 87/100\n",
      "13/13 [==============================] - 0s 31ms/step - loss: 2.0073e-04 - val_loss: 9.4347e-04\n",
      "Epoch 88/100\n",
      "13/13 [==============================] - 0s 32ms/step - loss: 1.9512e-04 - val_loss: 0.0014\n",
      "Epoch 89/100\n",
      "13/13 [==============================] - 0s 31ms/step - loss: 1.9039e-04 - val_loss: 9.6708e-04\n",
      "Epoch 90/100\n",
      "13/13 [==============================] - 0s 36ms/step - loss: 1.9659e-04 - val_loss: 8.8612e-04\n",
      "Epoch 91/100\n",
      "13/13 [==============================] - 0s 34ms/step - loss: 2.2077e-04 - val_loss: 0.0012\n",
      "Epoch 92/100\n",
      "13/13 [==============================] - 0s 32ms/step - loss: 2.2260e-04 - val_loss: 0.0011\n",
      "Epoch 93/100\n",
      "13/13 [==============================] - 0s 31ms/step - loss: 2.4808e-04 - val_loss: 0.0025\n",
      "Epoch 94/100\n",
      "13/13 [==============================] - 0s 32ms/step - loss: 1.9508e-04 - val_loss: 9.5898e-04\n",
      "Epoch 95/100\n",
      "13/13 [==============================] - 0s 31ms/step - loss: 2.0417e-04 - val_loss: 8.9687e-04\n",
      "Epoch 96/100\n",
      "13/13 [==============================] - 0s 32ms/step - loss: 2.1555e-04 - val_loss: 9.9941e-04\n",
      "Epoch 97/100\n",
      "13/13 [==============================] - 0s 33ms/step - loss: 1.8919e-04 - val_loss: 8.8630e-04\n",
      "Epoch 98/100\n",
      "13/13 [==============================] - 0s 30ms/step - loss: 1.8262e-04 - val_loss: 0.0012\n",
      "Epoch 99/100\n",
      "13/13 [==============================] - 0s 34ms/step - loss: 1.9163e-04 - val_loss: 8.5039e-04\n",
      "Epoch 100/100\n",
      "13/13 [==============================] - 0s 31ms/step - loss: 1.8760e-04 - val_loss: 9.1957e-04\n"
     ]
    },
    {
     "data": {
      "text/plain": [
       "<tensorflow.python.keras.callbacks.History at 0x1f5b7070208>"
      ]
     },
     "execution_count": 414,
     "metadata": {},
     "output_type": "execute_result"
    }
   ],
   "source": [
    "model.fit(X_train,y_train,validation_data=(X_test,y_test),epochs=100,batch_size=64,verbose=1)"
   ]
  },
  {
   "cell_type": "code",
   "execution_count": 415,
   "metadata": {},
   "outputs": [],
   "source": [
    "import tensorflow as tf"
   ]
  },
  {
   "cell_type": "code",
   "execution_count": 416,
   "metadata": {},
   "outputs": [
    {
     "data": {
      "text/plain": [
       "'2.3.0'"
      ]
     },
     "execution_count": 416,
     "metadata": {},
     "output_type": "execute_result"
    }
   ],
   "source": [
    "tf.__version__"
   ]
  },
  {
   "cell_type": "code",
   "execution_count": 417,
   "metadata": {},
   "outputs": [],
   "source": [
    "### Lets Do the prediction and check performance metrics\n",
    "train_predict=model.predict(X_train)\n",
    "test_predict=model.predict(X_test)"
   ]
  },
  {
   "cell_type": "code",
   "execution_count": 418,
   "metadata": {},
   "outputs": [],
   "source": [
    "##Transformback to original form\n",
    "train_predict=scaler.inverse_transform(train_predict)\n",
    "test_predict=scaler.inverse_transform(test_predict)"
   ]
  },
  {
   "cell_type": "code",
   "execution_count": 419,
   "metadata": {},
   "outputs": [
    {
     "data": {
      "text/plain": [
       "array([0.16271215, 0.1614878 , 0.1554927 , 0.15443722, 0.15730811,\n",
       "       0.15604154, 0.15849025, 0.15308621, 0.15735033, 0.15490163,\n",
       "       0.15946129, 0.15688592, 0.1537195 , 0.14434687, 0.14812547,\n",
       "       0.15308621, 0.15241071, 0.15055307, 0.14924428, 0.13607194,\n",
       "       0.12551718, 0.13906949, 0.14911762, 0.14890653, 0.15401503,\n",
       "       0.16115005, 0.16583636, 0.17618002, 0.17060711, 0.14725998,\n",
       "       0.14700667, 0.14422021, 0.13691632, 0.13949168, 0.13784514,\n",
       "       0.13522756, 0.13071012, 0.11863548, 0.10259225, 0.1058009 ,\n",
       "       0.10466098, 0.10630752, 0.12403952, 0.09773706, 0.10512539,\n",
       "       0.10474542, 0.10816516, 0.11323144, 0.11044499, 0.10415435,\n",
       "       0.09419066, 0.06510175, 0.05395592, 0.0565735 , 0.08169383,\n",
       "       0.09533058, 0.09689268, 0.09465507, 0.07337668, 0.09288187,\n",
       "       0.08456472, 0.07992063, 0.09275521, 0.0836359 , 0.09385291,\n",
       "       0.10077683, 0.10542092, 0.10951617, 0.11006502, 0.09955248,\n",
       "       0.09756818, 0.10499873, 0.09735709, 0.10124124, 0.10411213,\n",
       "       0.10288778, 0.09330406, 0.07903403, 0.08426919, 0.08122942,\n",
       "       0.08460694, 0.0862957 , 0.08853331, 0.0862957 , 0.08089167,\n",
       "       0.09195305, 0.08975766, 0.09055982, 0.08388922, 0.09085536,\n",
       "       0.0873934 , 0.09030651, 0.09891919, 0.09887697, 0.10622309,\n",
       "       0.1213375 , 0.10529427, 0.10221228, 0.12213966, 0.12745926,\n",
       "       0.1231107 , 0.1302035 , 0.13607194, 0.13366546, 0.1291058 ,\n",
       "       0.12969687, 0.12762813, 0.1115849 , 0.10879845, 0.1071519 ,\n",
       "       0.09288187, 0.10062906, 0.09858144, 0.11378029, 0.12007093,\n",
       "       0.12226632, 0.11572237, 0.12049312, 0.1169045 , 0.11597568,\n",
       "       0.11804441, 0.11399139, 0.10951617, 0.10495651, 0.1211264 ,\n",
       "       0.11795998, 0.11774888, 0.10672971, 0.10905176, 0.09642827,\n",
       "       0.09347294, 0.08507135, 0.08865997, 0.07869628, 0.06624166,\n",
       "       0.07173014, 0.07130795, 0.07713417, 0.07468547, 0.06957697,\n",
       "       0.07768302, 0.07168792, 0.0629908 , 0.06337077, 0.05222494,\n",
       "       0.04373892, 0.02579583, 0.027949  , 0.03457739, 0.04061471,\n",
       "       0.02976442, 0.03875707, 0.02866672, 0.02668243, 0.02723128,\n",
       "       0.02516254, 0.04677869, 0.03841932, 0.04074137, 0.01300346,\n",
       "       0.01583214, 0.02955332, 0.02571139, 0.01747868, 0.02537364,\n",
       "       0.02642911, 0.0155366 , 0.01971629, 0.01963185, 0.01659208,\n",
       "       0.01418559, 0.01540995, 0.02659799, 0.03284641, 0.02499367,\n",
       "       0.02406485, 0.02761125, 0.01836528, 0.02431816, 0.02710462,\n",
       "       0.0277379 , 0.02680909, 0.04302119, 0.04395001, 0.04711644,\n",
       "       0.05349151, 0.04867854, 0.04513215, 0.04551212, 0.04572321,\n",
       "       0.05032509, 0.05142278, 0.0601199 , 0.06598835, 0.06527062,\n",
       "       0.06577725, 0.06573503, 0.06915477, 0.06666385, 0.06472178,\n",
       "       0.06269526, 0.0732078 , 0.08114498, 0.0787385 , 0.0829604 ,\n",
       "       0.08773115, 0.08220046, 0.08705564, 0.07683864, 0.07734527,\n",
       "       0.07886515, 0.08486026, 0.0916153 , 0.09186861, 0.08236933,\n",
       "       0.07236342, 0.06995694, 0.07088576, 0.06598835, 0.064764  ,\n",
       "       0.06223085, 0.05914886, 0.03157984, 0.01895635, 0.01435447,\n",
       "       0.01393228, 0.02043401, 0.01625433, 0.01224352, 0.01004813,\n",
       "       0.01034366, 0.01300346, 0.00916153, 0.        , 0.00075994,\n",
       "       0.01494554, 0.013299  , 0.01781643, 0.01629655, 0.02060289,\n",
       "       0.02571139, 0.03191759, 0.03917926, 0.04251457, 0.04226125,\n",
       "       0.04019252, 0.03428185, 0.03115765, 0.03200203, 0.03499958,\n",
       "       0.03668834, 0.03630837, 0.03930592, 0.03584396, 0.02955332,\n",
       "       0.03005995, 0.02870894, 0.03043992, 0.0210673 , 0.02009626,\n",
       "       0.023516  , 0.02199612, 0.02431816, 0.01291902, 0.00717724,\n",
       "       0.01372119, 0.01714093, 0.02220721, 0.02343156, 0.01963185,\n",
       "       0.02191168, 0.02364266, 0.02676687, 0.02803344, 0.02989107,\n",
       "       0.02756903, 0.03567508, 0.03563286, 0.04006586, 0.04023474,\n",
       "       0.04061471, 0.0383771 , 0.03512623, 0.02955332, 0.02672465,\n",
       "       0.0532382 , 0.05910665, 0.0585578 , 0.0663261 , 0.05969771,\n",
       "       0.0652284 , 0.06556616, 0.07236342, 0.07612092, 0.07797855,\n",
       "       0.07455881, 0.07426328, 0.07531875, 0.08080723, 0.08038504,\n",
       "       0.07970953, 0.07911847, 0.0803006 , 0.07671198, 0.07814743,\n",
       "       0.07468547, 0.07274339, 0.07008359, 0.06957697, 0.066115  ,\n",
       "       0.06653719, 0.06919699, 0.0734189 , 0.07329224, 0.0760787 ,\n",
       "       0.06408849, 0.05399814, 0.06375074, 0.07434772, 0.09047539,\n",
       "       0.10651862, 0.10377438, 0.09811703, 0.09807481, 0.09799037,\n",
       "       0.10250781, 0.09444398, 0.0951617 , 0.0960483 , 0.09967914,\n",
       "       0.09220637, 0.09587942, 0.09364181, 0.09566833, 0.09587942,\n",
       "       0.09942582, 0.10014354, 0.10854513, 0.10960061, 0.11399139,\n",
       "       0.1124715 , 0.11521574, 0.11487799, 0.11454023, 0.11306257,\n",
       "       0.11280925, 0.11086718, 0.11530018, 0.11783332, 0.10660306,\n",
       "       0.10191674, 0.0987081 , 0.09794816, 0.08929325, 0.08971544,\n",
       "       0.08228489, 0.07810521, 0.0847336 , 0.08747784, 0.08671789,\n",
       "       0.07367221, 0.07637423, 0.06489065, 0.07080132, 0.0829604 ,\n",
       "       0.08279152, 0.08325593, 0.09030651, 0.09060204, 0.08819556,\n",
       "       0.09055982, 0.08963101, 0.0891666 , 0.08519801, 0.08084945,\n",
       "       0.08258043, 0.07924512, 0.08279152, 0.08735118, 0.09195305,\n",
       "       0.09967914, 0.0969349 , 0.1049143 , 0.1049143 , 0.10757409,\n",
       "       0.10820738, 0.11103606, 0.11234485, 0.11280925, 0.10955839,\n",
       "       0.11052943, 0.11365364, 0.11154268, 0.11141603, 0.10757409,\n",
       "       0.10896732, 0.10841848, 0.1109094 , 0.11639787, 0.12095753,\n",
       "       0.12146416, 0.12416617, 0.12205522, 0.12116862, 0.12522165,\n",
       "       0.12517943, 0.12429283, 0.12522165, 0.1255594 , 0.12509499,\n",
       "       0.13315883, 0.13341214, 0.13345436, 0.13210335, 0.13092122,\n",
       "       0.1621633 , 0.16123448, 0.16355653, 0.16866503, 0.17390019,\n",
       "       0.17605336, 0.17765769, 0.17639112, 0.18133074, 0.18863464,\n",
       "       0.19070337, 0.19000676, 0.19158997, 0.19572743, 0.19745841,\n",
       "       0.19500971, 0.19555856, 0.19669847, 0.19695179, 0.20877311,\n",
       "       0.20526894, 0.2087309 , 0.20687326, 0.2076332 , 0.20543781,\n",
       "       0.2040868 , 0.20602888, 0.20628219, 0.20539559, 0.21160179,\n",
       "       0.21257283, 0.2096175 , 0.21582369, 0.20898421, 0.21565482,\n",
       "       0.21354387, 0.21236173, 0.21337499, 0.22570295, 0.22705396,\n",
       "       0.22625179, 0.22511188, 0.22528076, 0.22979819, 0.22663177,\n",
       "       0.22511188, 0.22376087, 0.22304315, 0.21654142, 0.21725914,\n",
       "       0.21409271, 0.2173858 , 0.214726  , 0.21253061, 0.21996116,\n",
       "       0.21924343, 0.22502744, 0.22878494, 0.22519632, 0.22566073,\n",
       "       0.22506966, 0.23743984, 0.24136621, 0.23946635, 0.23722874,\n",
       "       0.24748797, 0.26458668, 0.26872414, 0.26564215, 0.26855526,\n",
       "       0.27763236, 0.2759436 , 0.27497256, 0.25293422, 0.26260238,\n",
       "       0.26479777, 0.26872414, 0.26792198, 0.2659799 , 0.26821751,\n",
       "       0.26711982, 0.26737313, 0.2635312 , 0.2653044 , 0.27488812,\n",
       "       0.26847083, 0.27066622, 0.27455037, 0.27294604, 0.24757241,\n",
       "       0.23254243, 0.23748206, 0.23144474, 0.22777168, 0.21924343,\n",
       "       0.23642658, 0.23081145, 0.23444229, 0.23342903, 0.23617327,\n",
       "       0.23423119, 0.22540741, 0.23427341, 0.22519632, 0.22663177,\n",
       "       0.22443638, 0.2269273 , 0.22118551, 0.22730727, 0.23102254,\n",
       "       0.23300684, 0.23389344, 0.2424639 , 0.24782572, 0.25002111,\n",
       "       0.2522165 , 0.25618509, 0.25331419, 0.25301866, 0.26070252,\n",
       "       0.26344676, 0.26648653, 0.25424301, 0.2497678 , 0.24651693,\n",
       "       0.25208984, 0.28202314, 0.27539475, 0.27885671, 0.28907371,\n",
       "       0.29443553, 0.298573  , 0.27433927, 0.28345858, 0.29346449,\n",
       "       0.30085282, 0.29810859, 0.28506291, 0.28354302, 0.28231867,\n",
       "       0.29316896, 0.29401334, 0.29101579, 0.29350671, 0.30030398,\n",
       "       0.30638352, 0.30824116, 0.31098539, 0.31119649, 0.30287934,\n",
       "       0.30216161, 0.29941738, 0.28831377, 0.30043063, 0.29772862,\n",
       "       0.29262011, 0.28683611, 0.29359115, 0.28848265, 0.28873596,\n",
       "       0.2775057 , 0.266191  , 0.25985814, 0.25420079, 0.26513552,\n",
       "       0.2697374 , 0.26572659, 0.26927299, 0.2679642 , 0.27079287,\n",
       "       0.26657097, 0.27463481, 0.27425483, 0.27653466, 0.27678798,\n",
       "       0.27953221, 0.27721017, 0.28138985, 0.29359115, 0.29608207,\n",
       "       0.29308452, 0.27712573, 0.27826564, 0.27792789, 0.28185426,\n",
       "       0.27894115, 0.28316305, 0.30697458, 0.32246897, 0.33226378,\n",
       "       0.32318669, 0.32833741, 0.34687157, 0.3542599 , 0.35662417,\n",
       "       0.36266149, 0.3611416 , 0.3560331 , 0.35307777, 0.34197416,\n",
       "       0.33243266, 0.34096091, 0.3369501 , 0.33623237, 0.34957359,\n",
       "       0.35725745, 0.35729967, 0.3535844 , 0.34927805, 0.33412142,\n",
       "       0.34412733, 0.34074981, 0.33547243, 0.33479693, 0.33213713,\n",
       "       0.33344592, 0.33365701, 0.34758929, 0.34349405, 0.34590053,\n",
       "       0.34568944, 0.35307777, 0.36342143, 0.35548425, 0.35468209,\n",
       "       0.35746855, 0.35746855, 0.3387233 , 0.33884995, 0.34087647,\n",
       "       0.33306595, 0.34585831, 0.34573166, 0.34910918, 0.35742633,\n",
       "       0.35468209, 0.35459765, 0.35442878, 0.35860846, 0.36625011,\n",
       "       0.36245039, 0.37473613, 0.37541164, 0.37203411, 0.36587013,\n",
       "       0.36603901, 0.35413324, 0.34100312, 0.34269189, 0.32770413,\n",
       "       0.32352444, 0.32546652, 0.32694419, 0.29620873, 0.2792789 ,\n",
       "       0.30689015, 0.2921557 , 0.27362155, 0.27894115, 0.30553914,\n",
       "       0.31242084, 0.32521321, 0.3489403 , 0.34657604, 0.34412733,\n",
       "       0.34083425, 0.34687157, 0.35953728, 0.37418728, 0.37173858,\n",
       "       0.37059867, 0.35742633, 0.36253483, 0.36511019, 0.36447691,\n",
       "       0.35755298, 0.36561682, 0.37845141, 0.38579752, 0.37840919,\n",
       "       0.37194967, 0.37283627, 0.37017648, 0.3586929 , 0.35843958,\n",
       "       0.34167863, 0.33146162, 0.31495398, 0.34801148, 0.32930845,\n",
       "       0.32145571, 0.32694419, 0.32230009, 0.32951955, 0.34311408,\n",
       "       0.34813814, 0.32947733, 0.33652791, 0.350038  , 0.34661826,\n",
       "       0.35379549, 0.35628641, 0.36088829, 0.37110529, 0.36941653,\n",
       "       0.34813814, 0.31824707, 0.31622055, 0.30651017, 0.30950773,\n",
       "       0.31191421, 0.30389259, 0.31630499, 0.3325171 , 0.36405472,\n",
       "       0.36540572, 0.39470573, 0.40032086, 0.40407836, 0.40960905,\n",
       "       0.42092375, 0.41480199, 0.41294436, 0.4057249 , 0.41307101,\n",
       "       0.40804695, 0.40517605, 0.41074897, 0.40876467, 0.41383095,\n",
       "       0.41294436, 0.41475977, 0.41188888, 0.41020012, 0.40754032,\n",
       "       0.42176813, 0.42848096, 0.43472938, 0.43755805, 0.43536266,\n",
       "       0.42793211, 0.42594782, 0.43038082, 0.42371021, 0.4241324 ,\n",
       "       0.41585747, 0.41543528, 0.40255847, 0.40597821, 0.40158744,\n",
       "       0.39930761, 0.38769737, 0.39723888, 0.39609896, 0.40175631,\n",
       "       0.40010977, 0.40884911, 0.3950857 , 0.40133412, 0.41218441,\n",
       "       0.42320358, 0.42223254, 0.41180444, 0.42510344, 0.42637001,\n",
       "       0.42459681, 0.42687664, 0.42244364, 0.42869205, 0.42683442,\n",
       "       0.42755214, 0.43342059, 0.44110445, 0.43852909, 0.42489234,\n",
       "       0.42037491, 0.42197923, 0.46930676, 0.49417377, 0.49670692,\n",
       "       0.50126657, 0.49299164, 0.49358271, 0.50046441, 0.49476484,\n",
       "       0.50042219, 0.50413747, 0.5062062 , 0.51920966, 0.53719497,\n",
       "       0.52824453])"
      ]
     },
     "execution_count": 419,
     "metadata": {},
     "output_type": "execute_result"
    }
   ],
   "source": [
    "y_train"
   ]
  },
  {
   "cell_type": "code",
   "execution_count": 420,
   "metadata": {},
   "outputs": [
    {
     "data": {
      "text/plain": [
       "array([[128.67326 ],\n",
       "       [128.315   ],\n",
       "       [128.17229 ],\n",
       "       [127.96904 ],\n",
       "       [127.74283 ],\n",
       "       [127.54961 ],\n",
       "       [127.429955],\n",
       "       [127.3978  ],\n",
       "       [127.295685],\n",
       "       [127.21236 ],\n",
       "       [127.12318 ],\n",
       "       [127.24697 ],\n",
       "       [127.395836],\n",
       "       [127.371506],\n",
       "       [126.98535 ],\n",
       "       [126.47526 ],\n",
       "       [126.0737  ],\n",
       "       [125.89485 ],\n",
       "       [125.76717 ],\n",
       "       [125.74148 ],\n",
       "       [125.3531  ],\n",
       "       [124.46695 ],\n",
       "       [123.55887 ],\n",
       "       [123.132095],\n",
       "       [123.130516],\n",
       "       [123.70139 ],\n",
       "       [124.822655],\n",
       "       [126.270164],\n",
       "       [128.00967 ],\n",
       "       [129.60924 ],\n",
       "       [130.02336 ],\n",
       "       [129.29698 ],\n",
       "       [128.05312 ],\n",
       "       [126.48534 ],\n",
       "       [124.89691 ],\n",
       "       [123.60189 ],\n",
       "       [122.693794],\n",
       "       [122.05158 ],\n",
       "       [121.43122 ],\n",
       "       [120.252335],\n",
       "       [118.56426 ],\n",
       "       [116.968   ],\n",
       "       [115.70927 ],\n",
       "       [115.26733 ],\n",
       "       [115.05868 ],\n",
       "       [114.984474],\n",
       "       [114.98274 ],\n",
       "       [115.08378 ],\n",
       "       [115.289   ],\n",
       "       [115.41904 ],\n",
       "       [115.46865 ],\n",
       "       [115.11036 ],\n",
       "       [113.75727 ],\n",
       "       [111.623474],\n",
       "       [108.774055],\n",
       "       [106.75685 ],\n",
       "       [106.10776 ],\n",
       "       [106.762566],\n",
       "       [108.23818 ],\n",
       "       [109.448784],\n",
       "       [110.46512 ],\n",
       "       [111.040634],\n",
       "       [110.82998 ],\n",
       "       [110.431915],\n",
       "       [109.966515],\n",
       "       [109.99595 ],\n",
       "       [110.57579 ],\n",
       "       [111.55337 ],\n",
       "       [112.769135],\n",
       "       [113.7793  ],\n",
       "       [114.61956 ],\n",
       "       [114.828705],\n",
       "       [114.708115],\n",
       "       [114.44809 ],\n",
       "       [113.98631 ],\n",
       "       [113.74046 ],\n",
       "       [113.694374],\n",
       "       [113.56365 ],\n",
       "       [112.9829  ],\n",
       "       [112.14184 ],\n",
       "       [111.07236 ],\n",
       "       [110.14148 ],\n",
       "       [109.62833 ],\n",
       "       [109.4118  ],\n",
       "       [109.502655],\n",
       "       [109.64993 ],\n",
       "       [109.97591 ],\n",
       "       [110.302635],\n",
       "       [110.50583 ],\n",
       "       [110.60272 ],\n",
       "       [110.64093 ],\n",
       "       [110.65669 ],\n",
       "       [110.70414 ],\n",
       "       [111.002655],\n",
       "       [111.466736],\n",
       "       [112.115875],\n",
       "       [113.380264],\n",
       "       [114.52759 ],\n",
       "       [115.24878 ],\n",
       "       [115.88728 ],\n",
       "       [116.79119 ],\n",
       "       [117.63598 ],\n",
       "       [118.51813 ],\n",
       "       [119.55886 ],\n",
       "       [120.474915],\n",
       "       [121.11879 ],\n",
       "       [121.569336],\n",
       "       [121.44533 ],\n",
       "       [120.610306],\n",
       "       [119.493126],\n",
       "       [118.18791 ],\n",
       "       [116.50723 ],\n",
       "       [115.04097 ],\n",
       "       [113.96601 ],\n",
       "       [113.61968 ],\n",
       "       [114.07083 ],\n",
       "       [115.17851 ],\n",
       "       [116.399254],\n",
       "       [117.37569 ],\n",
       "       [118.04164 ],\n",
       "       [118.34235 ],\n",
       "       [118.22433 ],\n",
       "       [117.95811 ],\n",
       "       [117.413124],\n",
       "       [116.810165],\n",
       "       [116.57457 ],\n",
       "       [116.66375 ],\n",
       "       [116.87009 ],\n",
       "       [116.95245 ],\n",
       "       [116.80778 ],\n",
       "       [116.230804],\n",
       "       [115.31166 ],\n",
       "       [113.998474],\n",
       "       [112.618515],\n",
       "       [111.175835],\n",
       "       [109.788445],\n",
       "       [108.49986 ],\n",
       "       [107.51069 ],\n",
       "       [106.89386 ],\n",
       "       [106.73533 ],\n",
       "       [106.62707 ],\n",
       "       [106.7536  ],\n",
       "       [106.86207 ],\n",
       "       [106.80883 ],\n",
       "       [106.43631 ],\n",
       "       [105.56149 ],\n",
       "       [104.34592 ],\n",
       "       [102.563736],\n",
       "       [100.62172 ],\n",
       "       [ 98.925316],\n",
       "       [ 97.80552 ],\n",
       "       [ 97.22495 ],\n",
       "       [ 97.09045 ],\n",
       "       [ 97.06115 ],\n",
       "       [ 97.050224],\n",
       "       [ 96.89965 ],\n",
       "       [ 96.60768 ],\n",
       "       [ 96.5525  ],\n",
       "       [ 96.81535 ],\n",
       "       [ 97.348595],\n",
       "       [ 97.44025 ],\n",
       "       [ 96.872536],\n",
       "       [ 96.32852 ],\n",
       "       [ 95.76743 ],\n",
       "       [ 95.16734 ],\n",
       "       [ 94.739334],\n",
       "       [ 94.53254 ],\n",
       "       [ 94.55418 ],\n",
       "       [ 94.50511 ],\n",
       "       [ 94.49308 ],\n",
       "       [ 94.150566],\n",
       "       [ 93.74963 ],\n",
       "       [ 93.4943  ],\n",
       "       [ 93.4852  ],\n",
       "       [ 93.81006 ],\n",
       "       [ 94.375626],\n",
       "       [ 94.919106],\n",
       "       [ 95.28407 ],\n",
       "       [ 95.40799 ],\n",
       "       [ 95.371056],\n",
       "       [ 95.28619 ],\n",
       "       [ 95.22649 ],\n",
       "       [ 95.219795],\n",
       "       [ 95.68685 ],\n",
       "       [ 96.57001 ],\n",
       "       [ 97.6038  ],\n",
       "       [ 98.78749 ],\n",
       "       [ 99.89542 ],\n",
       "       [100.55632 ],\n",
       "       [100.88525 ],\n",
       "       [100.92629 ],\n",
       "       [100.85707 ],\n",
       "       [100.779175],\n",
       "       [101.10304 ],\n",
       "       [101.77275 ],\n",
       "       [102.66429 ],\n",
       "       [103.639366],\n",
       "       [104.42521 ],\n",
       "       [105.019936],\n",
       "       [105.39089 ],\n",
       "       [105.495094],\n",
       "       [105.384605],\n",
       "       [105.33796 ],\n",
       "       [105.70039 ],\n",
       "       [106.34316 ],\n",
       "       [107.12795 ],\n",
       "       [108.03378 ],\n",
       "       [108.795944],\n",
       "       [109.44909 ],\n",
       "       [109.667694],\n",
       "       [109.47962 ],\n",
       "       [109.05029 ],\n",
       "       [108.81282 ],\n",
       "       [108.982925],\n",
       "       [109.40666 ],\n",
       "       [109.801544],\n",
       "       [109.82019 ],\n",
       "       [109.30863 ],\n",
       "       [108.586   ],\n",
       "       [107.58054 ],\n",
       "       [106.559654],\n",
       "       [105.62988 ],\n",
       "       [104.87264 ],\n",
       "       [103.74662 ],\n",
       "       [101.98636 ],\n",
       "       [ 99.694405],\n",
       "       [ 97.27145 ],\n",
       "       [ 95.29873 ],\n",
       "       [ 93.935974],\n",
       "       [ 93.03671 ],\n",
       "       [ 92.51493 ],\n",
       "       [ 92.27551 ],\n",
       "       [ 92.290794],\n",
       "       [ 92.15935 ],\n",
       "       [ 91.77079 ],\n",
       "       [ 91.21378 ],\n",
       "       [ 90.901955],\n",
       "       [ 90.96586 ],\n",
       "       [ 91.31691 ],\n",
       "       [ 91.80824 ],\n",
       "       [ 92.401146],\n",
       "       [ 93.12198 ],\n",
       "       [ 94.02581 ],\n",
       "       [ 95.084015],\n",
       "       [ 96.16866 ],\n",
       "       [ 97.209984],\n",
       "       [ 98.16863 ],\n",
       "       [ 98.68056 ],\n",
       "       [ 98.73593 ],\n",
       "       [ 98.401726],\n",
       "       [ 97.97057 ],\n",
       "       [ 97.63865 ],\n",
       "       [ 97.483055],\n",
       "       [ 97.57902 ],\n",
       "       [ 97.77669 ],\n",
       "       [ 97.83432 ],\n",
       "       [ 97.71112 ],\n",
       "       [ 97.3899  ],\n",
       "       [ 97.008804],\n",
       "       [ 96.49584 ],\n",
       "       [ 95.90324 ],\n",
       "       [ 95.384186],\n",
       "       [ 94.97328 ],\n",
       "       [ 94.777596],\n",
       "       [ 94.493774],\n",
       "       [ 93.93659 ],\n",
       "       [ 93.367905],\n",
       "       [ 92.96474 ],\n",
       "       [ 92.911804],\n",
       "       [ 93.085205],\n",
       "       [ 93.381935],\n",
       "       [ 93.7727  ],\n",
       "       [ 94.173   ],\n",
       "       [ 94.63165 ],\n",
       "       [ 94.990135],\n",
       "       [ 95.28835 ],\n",
       "       [ 95.574326],\n",
       "       [ 95.95634 ],\n",
       "       [ 96.44442 ],\n",
       "       [ 97.02684 ],\n",
       "       [ 97.58451 ],\n",
       "       [ 98.10541 ],\n",
       "       [ 98.483025],\n",
       "       [ 98.638504],\n",
       "       [ 98.46134 ],\n",
       "       [ 97.979866],\n",
       "       [ 97.84028 ],\n",
       "       [ 98.412   ],\n",
       "       [ 99.455284],\n",
       "       [100.89839 ],\n",
       "       [102.28711 ],\n",
       "       [103.49366 ],\n",
       "       [104.3961  ],\n",
       "       [105.09093 ],\n",
       "       [105.6439  ],\n",
       "       [106.11049 ],\n",
       "       [106.71268 ],\n",
       "       [107.17581 ],\n",
       "       [107.43522 ],\n",
       "       [107.73689 ],\n",
       "       [107.938675],\n",
       "       [108.144806],\n",
       "       [108.26938 ],\n",
       "       [108.41145 ],\n",
       "       [108.46598 ],\n",
       "       [108.452255],\n",
       "       [108.26878 ],\n",
       "       [107.94733 ],\n",
       "       [107.512535],\n",
       "       [107.08615 ],\n",
       "       [106.60299 ],\n",
       "       [106.13156 ],\n",
       "       [105.796135],\n",
       "       [105.742874],\n",
       "       [105.88384 ],\n",
       "       [106.2482  ],\n",
       "       [106.41299 ],\n",
       "       [106.08778 ],\n",
       "       [105.55875 ],\n",
       "       [105.280174],\n",
       "       [105.664505],\n",
       "       [107.01795 ],\n",
       "       [108.98416 ],\n",
       "       [110.97148 ],\n",
       "       [112.551636],\n",
       "       [113.59828 ],\n",
       "       [114.05956 ],\n",
       "       [113.863754],\n",
       "       [113.39687 ],\n",
       "       [112.89287 ],\n",
       "       [112.65779 ],\n",
       "       [112.579895],\n",
       "       [112.50381 ],\n",
       "       [112.355354],\n",
       "       [112.255806],\n",
       "       [112.224075],\n",
       "       [112.388985],\n",
       "       [112.583405],\n",
       "       [113.04642 ],\n",
       "       [113.72554 ],\n",
       "       [114.61375 ],\n",
       "       [115.39133 ],\n",
       "       [116.12338 ],\n",
       "       [116.662834],\n",
       "       [117.0167  ],\n",
       "       [117.13524 ],\n",
       "       [117.09587 ],\n",
       "       [116.88548 ],\n",
       "       [116.78199 ],\n",
       "       [116.81711 ],\n",
       "       [116.74511 ],\n",
       "       [116.35261 ],\n",
       "       [115.70387 ],\n",
       "       [114.90368 ],\n",
       "       [113.913216],\n",
       "       [112.87822 ],\n",
       "       [111.79977 ],\n",
       "       [110.68179 ],\n",
       "       [109.88577 ],\n",
       "       [109.54441 ],\n",
       "       [109.43938 ],\n",
       "       [109.23948 ],\n",
       "       [108.94405 ],\n",
       "       [108.36954 ],\n",
       "       [107.63914 ],\n",
       "       [107.289536],\n",
       "       [107.28724 ],\n",
       "       [107.57034 ],\n",
       "       [108.27328 ],\n",
       "       [109.200745],\n",
       "       [110.06707 ],\n",
       "       [110.64241 ],\n",
       "       [111.03774 ],\n",
       "       [111.0822  ],\n",
       "       [110.928795],\n",
       "       [110.63105 ],\n",
       "       [110.19012 ],\n",
       "       [109.657036],\n",
       "       [109.28464 ],\n",
       "       [109.1666  ],\n",
       "       [109.366   ],\n",
       "       [110.02715 ],\n",
       "       [110.887474],\n",
       "       [111.926186],\n",
       "       [112.939995],\n",
       "       [113.828674],\n",
       "       [114.57814 ],\n",
       "       [115.13857 ],\n",
       "       [115.60261 ],\n",
       "       [115.98463 ],\n",
       "       [116.19961 ],\n",
       "       [116.320786],\n",
       "       [116.34567 ],\n",
       "       [116.396545],\n",
       "       [116.38605 ],\n",
       "       [116.268745],\n",
       "       [116.08381 ],\n",
       "       [115.90248 ],\n",
       "       [115.80779 ],\n",
       "       [115.94057 ],\n",
       "       [116.33074 ],\n",
       "       [116.93492 ],\n",
       "       [117.69728 ],\n",
       "       [118.36335 ],\n",
       "       [118.830246],\n",
       "       [119.12582 ],\n",
       "       [119.33529 ],\n",
       "       [119.42375 ],\n",
       "       [119.466736],\n",
       "       [119.53385 ],\n",
       "       [119.61344 ],\n",
       "       [119.85916 ],\n",
       "       [120.285324],\n",
       "       [120.739525],\n",
       "       [121.10856 ],\n",
       "       [121.36916 ],\n",
       "       [122.263985],\n",
       "       [123.69309 ],\n",
       "       [125.39787 ],\n",
       "       [127.155914],\n",
       "       [128.82101 ],\n",
       "       [130.35526 ],\n",
       "       [131.55376 ],\n",
       "       [132.30298 ],\n",
       "       [132.72777 ],\n",
       "       [133.09465 ],\n",
       "       [133.9153  ],\n",
       "       [134.64206 ],\n",
       "       [135.25626 ],\n",
       "       [135.85936 ],\n",
       "       [136.46309 ],\n",
       "       [136.90013 ],\n",
       "       [137.14845 ],\n",
       "       [137.22432 ],\n",
       "       [137.26436 ],\n",
       "       [137.67574 ],\n",
       "       [138.23425 ],\n",
       "       [138.8584  ],\n",
       "       [139.40868 ],\n",
       "       [139.86028 ],\n",
       "       [140.08978 ],\n",
       "       [140.02374 ],\n",
       "       [139.84317 ],\n",
       "       [139.65103 ],\n",
       "       [139.45673 ],\n",
       "       [139.63104 ],\n",
       "       [139.94543 ],\n",
       "       [140.31119 ],\n",
       "       [140.74686 ],\n",
       "       [141.02393 ],\n",
       "       [141.2574  ],\n",
       "       [141.40497 ],\n",
       "       [141.46725 ],\n",
       "       [141.46281 ],\n",
       "       [141.77165 ],\n",
       "       [142.48325 ],\n",
       "       [143.30795 ],\n",
       "       [143.96686 ],\n",
       "       [144.49612 ],\n",
       "       [144.82372 ],\n",
       "       [145.0607  ],\n",
       "       [145.04025 ],\n",
       "       [144.79153 ],\n",
       "       [144.41743 ],\n",
       "       [143.98314 ],\n",
       "       [143.45448 ],\n",
       "       [142.83432 ],\n",
       "       [142.33084 ],\n",
       "       [141.95287 ],\n",
       "       [141.70648 ],\n",
       "       [141.70303 ],\n",
       "       [141.91122 ],\n",
       "       [142.4036  ],\n",
       "       [143.1669  ],\n",
       "       [143.82628 ],\n",
       "       [144.35518 ],\n",
       "       [144.62573 ],\n",
       "       [145.12349 ],\n",
       "       [145.85028 ],\n",
       "       [146.59505 ],\n",
       "       [147.25787 ],\n",
       "       [147.94931 ],\n",
       "       [149.24265 ],\n",
       "       [151.01495 ],\n",
       "       [152.67183 ],\n",
       "       [154.04811 ],\n",
       "       [155.26576 ],\n",
       "       [156.36043 ],\n",
       "       [157.07799 ],\n",
       "       [156.60109 ],\n",
       "       [155.51797 ],\n",
       "       [154.51758 ],\n",
       "       [154.07877 ],\n",
       "       [154.00076 ],\n",
       "       [154.01772 ],\n",
       "       [154.21016 ],\n",
       "       [154.5624  ],\n",
       "       [154.84726 ],\n",
       "       [154.92386 ],\n",
       "       [154.56079 ],\n",
       "       [154.65797 ],\n",
       "       [154.8528  ],\n",
       "       [155.14435 ],\n",
       "       [155.52611 ],\n",
       "       [155.85803 ],\n",
       "       [155.30441 ],\n",
       "       [153.51706 ],\n",
       "       [151.25783 ],\n",
       "       [148.88516 ],\n",
       "       [146.79767 ],\n",
       "       [145.10333 ],\n",
       "       [144.23148 ],\n",
       "       [144.11505 ],\n",
       "       [144.65579 ],\n",
       "       [145.47739 ],\n",
       "       [146.08353 ],\n",
       "       [146.4347  ],\n",
       "       [146.48419 ],\n",
       "       [146.38696 ],\n",
       "       [145.99977 ],\n",
       "       [145.38382 ],\n",
       "       [144.98189 ],\n",
       "       [144.60904 ],\n",
       "       [144.2717  ],\n",
       "       [144.11053 ],\n",
       "       [144.30226 ],\n",
       "       [144.75003 ],\n",
       "       [145.23444 ],\n",
       "       [146.13933 ],\n",
       "       [147.19293 ],\n",
       "       [148.39543 ],\n",
       "       [149.53162 ],\n",
       "       [150.61732 ],\n",
       "       [151.30766 ],\n",
       "       [151.71631 ],\n",
       "       [152.0913  ],\n",
       "       [152.52232 ],\n",
       "       [153.03896 ],\n",
       "       [153.26125 ],\n",
       "       [152.98273 ],\n",
       "       [152.22998 ],\n",
       "       [151.4583  ],\n",
       "       [151.87009 ],\n",
       "       [152.98239 ],\n",
       "       [154.48494 ],\n",
       "       [156.4194  ],\n",
       "       [158.50685 ],\n",
       "       [160.53479 ],\n",
       "       [161.16368 ],\n",
       "       [160.89511 ],\n",
       "       [160.44545 ],\n",
       "       [160.42642 ],\n",
       "       [161.08035 ],\n",
       "       [161.17719 ],\n",
       "       [160.81383 ],\n",
       "       [160.24478 ],\n",
       "       [159.9895  ],\n",
       "       [160.13972 ],\n",
       "       [160.04774 ],\n",
       "       [160.2467  ],\n",
       "       [160.88863 ],\n",
       "       [161.98242 ],\n",
       "       [163.19093 ],\n",
       "       [164.20412 ],\n",
       "       [165.03448 ],\n",
       "       [165.28484 ],\n",
       "       [165.17656 ],\n",
       "       [164.63658 ],\n",
       "       [163.45258 ],\n",
       "       [162.46138 ],\n",
       "       [161.85254 ],\n",
       "       [161.45094 ],\n",
       "       [160.97322 ],\n",
       "       [160.72835 ],\n",
       "       [160.53864 ],\n",
       "       [160.2806  ],\n",
       "       [159.72122 ],\n",
       "       [158.55988 ],\n",
       "       [156.75615 ],\n",
       "       [154.9174  ],\n",
       "       [153.55145 ],\n",
       "       [152.95154 ],\n",
       "       [152.86646 ],\n",
       "       [153.3837  ],\n",
       "       [154.03343 ],\n",
       "       [154.80028 ],\n",
       "       [155.23271 ],\n",
       "       [155.55469 ],\n",
       "       [155.8195  ],\n",
       "       [156.0597  ],\n",
       "       [156.47847 ],\n",
       "       [156.98785 ],\n",
       "       [157.30067 ],\n",
       "       [157.64    ],\n",
       "       [158.31876 ],\n",
       "       [159.3516  ],\n",
       "       [160.27156 ],\n",
       "       [160.52972 ],\n",
       "       [160.09464 ],\n",
       "       [159.29303 ],\n",
       "       [158.52423 ],\n",
       "       [157.90575 ],\n",
       "       [157.5583  ],\n",
       "       [158.36342 ],\n",
       "       [160.66394 ],\n",
       "       [163.96451 ],\n",
       "       [167.03383 ],\n",
       "       [169.2533  ],\n",
       "       [171.3402  ],\n",
       "       [173.36258 ],\n",
       "       [175.19817 ],\n",
       "       [176.69969 ],\n",
       "       [177.73726 ],\n",
       "       [178.35449 ],\n",
       "       [178.37958 ],\n",
       "       [177.54175 ],\n",
       "       [175.59738 ],\n",
       "       [173.70912 ],\n",
       "       [172.36722 ],\n",
       "       [171.50513 ],\n",
       "       [171.55301 ],\n",
       "       [172.65016 ],\n",
       "       [174.22322 ],\n",
       "       [175.614   ],\n",
       "       [176.43144 ],\n",
       "       [175.96735 ],\n",
       "       [174.97629 ],\n",
       "       [174.02213 ],\n",
       "       [172.91939 ],\n",
       "       [171.88246 ],\n",
       "       [171.18239 ],\n",
       "       [170.83359 ],\n",
       "       [170.72221 ],\n",
       "       [171.2585  ],\n",
       "       [172.07129 ],\n",
       "       [172.79193 ],\n",
       "       [173.63438 ],\n",
       "       [174.50458 ],\n",
       "       [175.63249 ],\n",
       "       [176.56203 ],\n",
       "       [177.05243 ],\n",
       "       [177.27736 ],\n",
       "       [177.28333 ],\n",
       "       [176.65765 ],\n",
       "       [175.37074 ],\n",
       "       [174.03836 ],\n",
       "       [172.63684 ],\n",
       "       [171.99677 ],\n",
       "       [172.15292 ],\n",
       "       [172.70229 ],\n",
       "       [173.8125  ],\n",
       "       [175.10083 ],\n",
       "       [176.2182  ],\n",
       "       [176.70387 ],\n",
       "       [177.0456  ],\n",
       "       [177.58224 ],\n",
       "       [177.91597 ],\n",
       "       [178.7728  ],\n",
       "       [179.76764 ],\n",
       "       [180.5904  ],\n",
       "       [180.95424 ],\n",
       "       [180.7528  ],\n",
       "       [179.78781 ],\n",
       "       [177.91774 ],\n",
       "       [175.84003 ],\n",
       "       [173.55205 ],\n",
       "       [171.16182 ],\n",
       "       [169.43483 ],\n",
       "       [168.42357 ],\n",
       "       [166.93236 ],\n",
       "       [164.5176  ],\n",
       "       [162.85043 ],\n",
       "       [161.52916 ],\n",
       "       [159.9268  ],\n",
       "       [158.63145 ],\n",
       "       [158.45667 ],\n",
       "       [159.64061 ],\n",
       "       [162.14392 ],\n",
       "       [166.0247  ],\n",
       "       [169.76276 ],\n",
       "       [172.66776 ],\n",
       "       [174.88356 ],\n",
       "       [175.88953 ],\n",
       "       [176.28818 ],\n",
       "       [177.13841 ],\n",
       "       [178.50716 ],\n",
       "       [179.68118 ],\n",
       "       [180.05443 ],\n",
       "       [180.12189 ],\n",
       "       [179.80705 ],\n",
       "       [179.31094 ],\n",
       "       [178.49612 ],\n",
       "       [177.99084 ],\n",
       "       [178.44766 ],\n",
       "       [179.93307 ],\n",
       "       [181.38943 ],\n",
       "       [182.23781 ],\n",
       "       [182.28116 ],\n",
       "       [181.91617 ],\n",
       "       [180.88817 ],\n",
       "       [179.49492 ],\n",
       "       [177.37288 ],\n",
       "       [174.87477 ],\n",
       "       [172.0207  ],\n",
       "       [170.56544 ],\n",
       "       [169.68869 ],\n",
       "       [168.96248 ],\n",
       "       [168.66675 ],\n",
       "       [168.53137 ],\n",
       "       [168.63348 ],\n",
       "       [169.57352 ],\n",
       "       [170.95949 ],\n",
       "       [171.78174 ],\n",
       "       [172.00989 ],\n",
       "       [173.01918 ],\n",
       "       [173.71385 ],\n",
       "       [174.41531 ],\n",
       "       [175.2938  ],\n",
       "       [176.16779 ],\n",
       "       [177.4394  ],\n",
       "       [178.87672 ],\n",
       "       [179.25642 ],\n",
       "       [177.19472 ],\n",
       "       [173.91217 ],\n",
       "       [170.22873 ],\n",
       "       [166.8612  ],\n",
       "       [164.61292 ],\n",
       "       [163.21545 ],\n",
       "       [163.04723 ],\n",
       "       [164.49377 ],\n",
       "       [167.90918 ],\n",
       "       [172.06755 ],\n",
       "       [176.8568  ],\n",
       "       [181.89314 ],\n",
       "       [186.19092 ],\n",
       "       [189.52037 ],\n",
       "       [192.02525 ],\n",
       "       [193.15677 ],\n",
       "       [193.28369 ],\n",
       "       [192.47621 ],\n",
       "       [191.74928 ],\n",
       "       [190.69725 ],\n",
       "       [189.93776 ],\n",
       "       [189.45055 ],\n",
       "       [189.17932 ],\n",
       "       [189.33466 ],\n",
       "       [189.85541 ],\n",
       "       [190.35226 ],\n",
       "       [190.674   ],\n",
       "       [190.62985 ],\n",
       "       [190.43799 ],\n",
       "       [190.58446 ],\n",
       "       [191.32137 ],\n",
       "       [192.74014 ],\n",
       "       [194.37209 ],\n",
       "       [195.83203 ],\n",
       "       [196.46785 ],\n",
       "       [196.33212 ],\n",
       "       [195.82571 ],\n",
       "       [194.94801 ],\n",
       "       [193.9409  ],\n",
       "       [192.94939 ],\n",
       "       [192.01646 ],\n",
       "       [190.79227 ],\n",
       "       [189.65604 ],\n",
       "       [188.5932  ],\n",
       "       [187.5934  ],\n",
       "       [186.40852 ],\n",
       "       [185.73853 ],\n",
       "       [185.40942 ],\n",
       "       [185.70474 ],\n",
       "       [186.19867 ],\n",
       "       [187.16602 ],\n",
       "       [187.56224 ],\n",
       "       [187.8664  ],\n",
       "       [188.4183  ],\n",
       "       [189.59285 ],\n",
       "       [190.83617 ],\n",
       "       [191.71776 ],\n",
       "       [192.48584 ],\n",
       "       [193.26836 ],\n",
       "       [193.76505 ],\n",
       "       [194.21562 ],\n",
       "       [194.03378 ],\n",
       "       [193.9437  ],\n",
       "       [193.98485 ],\n",
       "       [194.17291 ],\n",
       "       [194.51814 ],\n",
       "       [195.09328 ],\n",
       "       [195.98892 ],\n",
       "       [196.17636 ],\n",
       "       [195.51302 ],\n",
       "       [194.51555 ],\n",
       "       [195.40843 ],\n",
       "       [198.9503  ],\n",
       "       [203.73637 ],\n",
       "       [208.54935 ],\n",
       "       [212.05615 ],\n",
       "       [213.97386 ],\n",
       "       [214.65402 ],\n",
       "       [214.01036 ],\n",
       "       [212.91531 ],\n",
       "       [211.9534  ],\n",
       "       [212.08844 ],\n",
       "       [213.3002  ],\n",
       "       [215.5875  ]], dtype=float32)"
      ]
     },
     "execution_count": 420,
     "metadata": {},
     "output_type": "execute_result"
    }
   ],
   "source": [
    "train_predict"
   ]
  },
  {
   "cell_type": "code",
   "execution_count": 421,
   "metadata": {},
   "outputs": [
    {
     "data": {
      "text/plain": [
       "140.0133350598154"
      ]
     },
     "execution_count": 421,
     "metadata": {},
     "output_type": "execute_result"
    }
   ],
   "source": [
    "### Calculate RMSE performance metrics\n",
    "import math\n",
    "from sklearn.metrics import mean_squared_error\n",
    "math.sqrt(mean_squared_error(y_train,train_predict))"
   ]
  },
  {
   "cell_type": "code",
   "execution_count": 422,
   "metadata": {},
   "outputs": [
    {
     "data": {
      "text/plain": [
       "232.62944959052982"
      ]
     },
     "execution_count": 422,
     "metadata": {},
     "output_type": "execute_result"
    }
   ],
   "source": [
    "### Test Data RMSE\n",
    "math.sqrt(mean_squared_error(y_test,test_predict))"
   ]
  },
  {
   "cell_type": "code",
   "execution_count": 432,
   "metadata": {},
   "outputs": [
    {
     "data": {
      "image/png": "[encoded data removed]",
      "text/plain": [
       "<Figure size 432x288 with 1 Axes>"
      ]
     },
     "metadata": {
      "needs_background": "light"
     },
     "output_type": "display_data"
    }
   ],
   "source": [
    "### Plotting \n",
    "# shift train predictions for plotting\n",
    "look_back=10\n",
    "trainPredictPlot = numpy.empty_like(df1)\n",
    "trainPredictPlot[:, :] = np.nan\n",
    "trainPredictPlot[look_back:len(train_predict)+look_back, :] = train_predict\n",
    "# shift test predictions for plotting\n",
    "testPredictPlot = numpy.empty_like(df1)\n",
    "testPredictPlot[:, :] = numpy.nan\n",
    "testPredictPlot[len(train_predict)+(look_back*2)+1:len(df1)-1, :] = test_predict\n",
    "# plot baseline and predictions\n",
    "plt.plot(scaler.inverse_transform(df1),'blue')\n",
    "plt.plot(trainPredictPlot,'red')\n",
    "plt.plot(testPredictPlot,'green')\n",
    "plt.show()"
   ]
  },
  {
   "cell_type": "code",
   "execution_count": 433,
   "metadata": {},
   "outputs": [
    {
     "data": {
      "text/plain": [
       "441"
      ]
     },
     "execution_count": 433,
     "metadata": {},
     "output_type": "execute_result"
    }
   ],
   "source": [
    "len(test_data)"
   ]
  },
  {
   "cell_type": "code",
   "execution_count": 434,
   "metadata": {},
   "outputs": [
    {
     "data": {
      "text/plain": [
       "(1, 10)"
      ]
     },
     "execution_count": 434,
     "metadata": {},
     "output_type": "execute_result"
    }
   ],
   "source": [
    "x_input=test_data[431:].reshape(1,-1)\n",
    "x_input.shape"
   ]
  },
  {
   "cell_type": "code",
   "execution_count": null,
   "metadata": {},
   "outputs": [],
   "source": []
  },
  {
   "cell_type": "code",
   "execution_count": null,
   "metadata": {},
   "outputs": [],
   "source": []
  },
  {
   "cell_type": "code",
   "execution_count": 435,
   "metadata": {},
   "outputs": [],
   "source": [
    "temp_input=list(x_input)\n",
    "temp_input=temp_input[0].tolist()"
   ]
  },
  {
   "cell_type": "code",
   "execution_count": 436,
   "metadata": {},
   "outputs": [
    {
     "data": {
      "text/plain": [
       "[0.9485349995778098,\n",
       " 0.9333361479354896,\n",
       " 0.9174617917757326,\n",
       " 0.925441188887951,\n",
       " 0.9177151059697712,\n",
       " 0.9483239044161109,\n",
       " 0.9406400405302711,\n",
       " 0.9663514312251966,\n",
       " 0.9563033015283293,\n",
       " 0.964915984125644]"
      ]
     },
     "execution_count": 436,
     "metadata": {},
     "output_type": "execute_result"
    }
   ],
   "source": [
    "temp_input"
   ]
  },
  {
   "cell_type": "code",
   "execution_count": 440,
   "metadata": {},
   "outputs": [
    {
     "name": "stdout",
     "output_type": "stream",
     "text": [
      "0 day input [0.96635143 0.9563033  0.96491598 0.97758609 0.98771793 0.99749744\n",
      " 1.00683796 1.01684594 1.02630866 1.03724563]\n",
      "0 day output [[1.0473676]]\n",
      "1 day input [0.9563033  0.96491598 0.97758609 0.98771793 0.99749744 1.00683796\n",
      " 1.01684594 1.02630866 1.03724563 1.04736757]\n",
      "1 day output [[1.0585936]]\n",
      "2 day input [0.96491598 0.97758609 0.98771793 0.99749744 1.00683796 1.01684594\n",
      " 1.02630866 1.03724563 1.04736757 1.05859363]\n",
      "2 day output [[1.0688719]]\n",
      "[[1.0473675727844238], [1.0585936307907104], [1.0688718557357788]]\n"
     ]
    }
   ],
   "source": [
    "# demonstrate prediction for next 3 days\n",
    "from numpy import array\n",
    "\n",
    "lst_output=[]\n",
    "n_steps=10\n",
    "i=0\n",
    "while(i<3):\n",
    "    \n",
    "    if(len(temp_input)>10):\n",
    "        #print(temp_input)\n",
    "        x_input=np.array(temp_input[1:])\n",
    "        print(\"{} day input {}\".format(i,x_input))\n",
    "        x_input=x_input.reshape(1,-1)\n",
    "        x_input = x_input.reshape((1, n_steps, 1))\n",
    "        #print(x_input)\n",
    "        yhat = model.predict(x_input, verbose=0)\n",
    "        print(\"{} day output {}\".format(i,yhat))\n",
    "        temp_input.extend(yhat[0].tolist())\n",
    "        temp_input=temp_input[1:]\n",
    "        #print(temp_input)\n",
    "        lst_output.extend(yhat.tolist())\n",
    "        i=i+1\n",
    "    else:\n",
    "        x_input = x_input.reshape((1, n_steps,1))\n",
    "        yhat = model.predict(x_input, verbose=0)\n",
    "        print(yhat[0])\n",
    "        temp_input.extend(yhat[0].tolist())\n",
    "        print(len(temp_input))\n",
    "        lst_output.extend(yhat.tolist())\n",
    "        i=i+1\n",
    "    \n",
    "\n",
    "print(lst_output)"
   ]
  },
  {
   "cell_type": "code",
   "execution_count": 442,
   "metadata": {},
   "outputs": [],
   "source": [
    "day_new=np.arange(1,11)\n",
    "day_pred=np.arange(11,14)"
   ]
  },
  {
   "cell_type": "code",
   "execution_count": 443,
   "metadata": {},
   "outputs": [
    {
     "data": {
      "text/plain": [
       "(10,)"
      ]
     },
     "execution_count": 443,
     "metadata": {},
     "output_type": "execute_result"
    }
   ],
   "source": [
    "day_new.shape"
   ]
  },
  {
   "cell_type": "code",
   "execution_count": 444,
   "metadata": {},
   "outputs": [
    {
     "data": {
      "text/plain": [
       "(3,)"
      ]
     },
     "execution_count": 444,
     "metadata": {},
     "output_type": "execute_result"
    }
   ],
   "source": [
    "day_pred.shape"
   ]
  },
  {
   "cell_type": "code",
   "execution_count": 445,
   "metadata": {},
   "outputs": [],
   "source": [
    "import matplotlib.pyplot as plt"
   ]
  },
  {
   "cell_type": "code",
   "execution_count": 446,
   "metadata": {},
   "outputs": [
    {
     "data": {
      "text/plain": [
       "1258"
      ]
     },
     "execution_count": 446,
     "metadata": {},
     "output_type": "execute_result"
    }
   ],
   "source": [
    "len(df1)"
   ]
  },
  {
   "cell_type": "code",
   "execution_count": 447,
   "metadata": {},
   "outputs": [
    {
     "data": {
      "text/plain": [
       "array([[338.41948329],\n",
       "       [341.07848739],\n",
       "       [343.51298775]])"
      ]
     },
     "execution_count": 447,
     "metadata": {},
     "output_type": "execute_result"
    }
   ],
   "source": [
    "scaler.inverse_transform(lst_output)"
   ]
  },
  {
   "cell_type": "code",
   "execution_count": 448,
   "metadata": {},
   "outputs": [
    {
     "data": {
      "text/plain": [
       "[<matplotlib.lines.Line2D at 0x1f5c3d1e608>]"
      ]
     },
     "execution_count": 448,
     "metadata": {},
     "output_type": "execute_result"
    },
    {
     "data": {
      "image/png": "[encoded data removed]",
      "text/plain": [
       "<Figure size 432x288 with 1 Axes>"
      ]
     },
     "metadata": {
      "needs_background": "light"
     },
     "output_type": "display_data"
    }
   ],
   "source": [
    "plt.plot(day_new,scaler.inverse_transform(df1[1248:]))\n",
    "plt.plot(day_pred,scaler.inverse_transform(lst_output))"
   ]
  },
  {
   "cell_type": "code",
   "execution_count": 449,
   "metadata": {},
   "outputs": [
    {
     "data": {
      "text/plain": [
       "[<matplotlib.lines.Line2D at 0x1f5c3e620c8>]"
      ]
     },
     "execution_count": 449,
     "metadata": {},
     "output_type": "execute_result"
    },
    {
     "data": {
      "image/png": "[encoded data removed]",
      "text/plain": [
       "<Figure size 432x288 with 1 Axes>"
      ]
     },
     "metadata": {
      "needs_background": "light"
     },
     "output_type": "display_data"
    }
   ],
   "source": [
    "df3=df1.tolist()\n",
    "df3.extend(lst_output)\n",
    "plt.plot(df3[1000:])"
   ]
  },
  {
   "cell_type": "code",
   "execution_count": 450,
   "metadata": {},
   "outputs": [],
   "source": [
    "df3=scaler.inverse_transform(df3).tolist()"
   ]
  },
  {
   "cell_type": "code",
   "execution_count": 451,
   "metadata": {},
   "outputs": [
    {
     "data": {
      "text/plain": [
       "[<matplotlib.lines.Line2D at 0x1f5b6bc0f48>]"
      ]
     },
     "execution_count": 451,
     "metadata": {},
     "output_type": "execute_result"
    },
    {
     "data": {
      "image/png": "[encoded data removed]",
      "text/plain": [
       "<Figure size 432x288 with 1 Axes>"
      ]
     },
     "metadata": {
      "needs_background": "light"
     },
     "output_type": "display_data"
    }
   ],
   "source": [
    "plt.plot(df3)"
   ]
  },
  {
   "cell_type": "code",
   "execution_count": null,
   "metadata": {},
   "outputs": [],
   "source": []
  }
 ],
 "metadata": {
  "kernelspec": {
   "display_name": "Python 3",
   "language": "python",
   "name": "python3"
  },
  "language_info": {
   "codemirror_mode": {
    "name": "ipython",
    "version": 3
   },
   "file_extension": ".py",
   "mimetype": "text/x-python",
   "name": "python",
   "nbconvert_exporter": "python",
   "pygments_lexer": "ipython3",
   "version": "3.7.6"
  }
 },
 "nbformat": 4,
 "nbformat_minor": 2
}
